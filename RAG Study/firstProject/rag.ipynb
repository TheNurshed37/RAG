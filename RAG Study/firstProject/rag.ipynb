{
 "cells": [
  {
   "cell_type": "markdown",
   "id": "08db8e6a",
   "metadata": {},
   "source": [
    "Rag system to generate answer of queries by user"
   ]
  },
  {
   "cell_type": "code",
   "execution_count": 161,
   "id": "1ebada98",
   "metadata": {},
   "outputs": [],
   "source": [
    "#Install libraries\n",
    "\n",
    "\n",
    "#Indexing (Document Ingestion)\n",
    "\n",
    "#Indexing (Text Splitting)\n",
    "\n",
    "#Indexing (Embedding Generation)\n",
    "\n",
    "#Indexing( Storing in Vector Store))\n",
    "\n",
    "#Retrieval\n",
    "#Augmentation\n",
    "#Generation\n",
    "\n",
    "\n",
    "#Building a Chain"
   ]
  },
  {
   "cell_type": "markdown",
   "id": "ea7fa277",
   "metadata": {},
   "source": [
    "Load Data"
   ]
  },
  {
   "cell_type": "code",
   "execution_count": 162,
   "id": "8a908da1",
   "metadata": {},
   "outputs": [],
   "source": [
    "from langchain_community.document_loaders import PyPDFLoader\n",
    "from langchain_text_splitters import RecursiveCharacterTextSplitter\n",
    "from langchain.schema.document import Document\n",
    "\n",
    "# Load PDF\n",
    "loader = PyPDFLoader(\n",
    "    \"/home/nurshed/Desktop/python/project/RAG Study/firstProject/the_alchemist.pdf\",\n",
    "    mode=\"single\",\n",
    ")\n",
    "documents = loader.load()"
   ]
  },
  {
   "cell_type": "code",
   "execution_count": 163,
   "id": "ee8b8d88",
   "metadata": {},
   "outputs": [
    {
     "name": "stdout",
     "output_type": "stream",
     "text": [
      "1\n",
      "{'producer': 'calibre (4.22.0) [https://calibre-ebook.com]', 'creator': 'calibre (4.22.0) [https://calibre-ebook.com]', 'creationdate': '2020-08-03T08:47:10+00:00', 'author': 'Paulo Coelho', 'keywords': 'Mobilism', 'moddate': '2020-08-03T16:47:20+08:00', 'title': 'The Alchemist', 'source': '/home/nurshed/Desktop/python/project/RAG Study/firstProject/the_alchemist.pdf', 'total_pages': 136}\n"
     ]
    }
   ],
   "source": [
    "print(len(documents))\n",
    "print(documents[0].metadata)"
   ]
  },
  {
   "cell_type": "markdown",
   "id": "d08e514c",
   "metadata": {},
   "source": [
    "Split the Document"
   ]
  },
  {
   "cell_type": "code",
   "execution_count": 164,
   "id": "ee0eb7c3",
   "metadata": {},
   "outputs": [
    {
     "name": "stdout",
     "output_type": "stream",
     "text": [
      "page_content='Contents\n",
      "International Acclaim for Paulo Coelho’s\n",
      "Foreword\n",
      "Prologue\n",
      "Part One\n",
      "Part Two\n",
      "Epilogue\n",
      "A Preview of Paulo Coelho’s: Warrior of the Light\n",
      "Warrior of the Light: Prologue\n",
      "About the Author\n",
      "Also by Paulo Coelho\n",
      "Back Ads\n",
      "Copyright\n",
      "About the Publisher\n",
      "\fInternational Acclaim for Paulo Coelho’s\n",
      "THE ALCHEMIST\n",
      "“The story has the comic charm, dramatic tension, and psychological\n",
      "intensity of a fairy tale, but it’s full of specific wisdom as well. . . . A\n",
      "sweetly exotic tale for young and old alike.”\n",
      "—Publishers Weekly\n",
      "“Beneath this novel’s compelling story and the shimmering elegance\n",
      "with which it’s told lies a bedrock of wisdom about following one’s\n",
      "heart.”\n",
      "—Booklist\n",
      "“As memorable and meaningful as Saint-Exupéry’s The Little\n",
      "Prince.”\n",
      "—Austin American-Statesman\n",
      "“A touching, inspiring fable.”\n",
      "—Indianapolis Star\n",
      "“A little poke in the ribs from on high.”\n",
      "—Detroit Free Press\n",
      "“The Alchemist is a fabulous success.”\n",
      "—Der Spiegel (Germany)' metadata={'producer': 'calibre (4.22.0) [https://calibre-ebook.com]', 'creator': 'calibre (4.22.0) [https://calibre-ebook.com]', 'creationdate': '2020-08-03T08:47:10+00:00', 'author': 'Paulo Coelho', 'keywords': 'Mobilism', 'moddate': '2020-08-03T16:47:20+08:00', 'title': 'The Alchemist', 'source': '/home/nurshed/Desktop/python/project/RAG Study/firstProject/the_alchemist.pdf', 'total_pages': 136}\n"
     ]
    }
   ],
   "source": [
    "def split_documents(documents: list[Document]):\n",
    "    text_splitter = RecursiveCharacterTextSplitter(\n",
    "        chunk_size=1000,\n",
    "        chunk_overlap=200,\n",
    "        length_function=len,\n",
    "        is_separator_regex=False\n",
    "    )\n",
    "    return text_splitter.split_documents(documents)\n",
    "\n",
    "chunks = split_documents(documents)\n",
    "print(chunks[0])"
   ]
  },
  {
   "cell_type": "code",
   "execution_count": 165,
   "id": "0d2dad59",
   "metadata": {},
   "outputs": [
    {
     "data": {
      "text/plain": [
       "288"
      ]
     },
     "execution_count": 165,
     "metadata": {},
     "output_type": "execute_result"
    }
   ],
   "source": [
    "len(chunks)"
   ]
  },
  {
   "cell_type": "code",
   "execution_count": 166,
   "id": "b7dca640",
   "metadata": {},
   "outputs": [
    {
     "name": "stdout",
     "output_type": "stream",
     "text": [
      "page_content='they were teaching me, but that I was learning from them.\n",
      "“Maktub,” the merchant said, finally.\n",
      "“What does that mean?”\n",
      "“You would have to have been born an Arab to understand,” he\n",
      "answered. “But in your language it would be something like ‘It is\n",
      "written.’”\n",
      "And, as he smothered the coals in the hookah, he told the boy\n",
      "that he could begin to sell tea in the crystal glasses. Sometimes,\n",
      "there’s just no way to hold back the river.\n",
      "The men climbed the hill, and they were tired when they reached the\n",
      "top. But there they saw a crystal shop that offered refreshing mint\n",
      "tea. They went in to drink the tea, which was served in beautiful\n",
      "crystal glasses.\n",
      "“My wife never thought of this,” said one, and he bought some\n",
      "crystal—he was entertaining guests that night, and the guests would\n",
      "be impressed by the beauty of the glassware. The other man\n",
      "remarked that tea was always more delicious when it was served in\n",
      "crystal, because the aroma was retained. The third said that it was a' metadata={'producer': 'calibre (4.22.0) [https://calibre-ebook.com]', 'creator': 'calibre (4.22.0) [https://calibre-ebook.com]', 'creationdate': '2020-08-03T08:47:10+00:00', 'author': 'Paulo Coelho', 'keywords': 'Mobilism', 'moddate': '2020-08-03T16:47:20+08:00', 'title': 'The Alchemist', 'source': '/home/nurshed/Desktop/python/project/RAG Study/firstProject/the_alchemist.pdf', 'total_pages': 136}\n"
     ]
    }
   ],
   "source": [
    "print(chunks[100])"
   ]
  },
  {
   "cell_type": "markdown",
   "id": "23d52af4",
   "metadata": {},
   "source": [
    "Embedding"
   ]
  },
  {
   "cell_type": "code",
   "execution_count": 167,
   "id": "4b708dcb",
   "metadata": {},
   "outputs": [],
   "source": [
    "from langchain.embeddings import HuggingFaceEmbeddings\n",
    "\n",
    "# Wrap your model\n",
    "embedding_model = HuggingFaceEmbeddings(\n",
    "    model_name=\"sentence-transformers/all-MiniLM-L6-v2\"\n",
    ")\n"
   ]
  },
  {
   "cell_type": "code",
   "execution_count": 168,
   "id": "2e311ce4",
   "metadata": {},
   "outputs": [
    {
     "name": "stdout",
     "output_type": "stream",
     "text": [
      "✅ FAISS vector store created with IDs for each chunk!\n"
     ]
    }
   ],
   "source": [
    "from langchain_community.vectorstores import FAISS\n",
    "\n",
    "vector_store = FAISS.from_documents(\n",
    "    documents=chunks,\n",
    "    embedding=embedding_model,\n",
    ")\n",
    "\n",
    "print(\"✅ FAISS vector store created with IDs for each chunk!\")\n"
   ]
  },
  {
   "cell_type": "code",
   "execution_count": 169,
   "id": "648e9d8d",
   "metadata": {},
   "outputs": [
    {
     "data": {
      "text/plain": [
       "{0: 'bfaeb70e-952e-4699-a5c1-8cb3d1744e9b',\n",
       " 1: '626f9f2f-e1bd-4ba4-a86c-e7536a298310',\n",
       " 2: 'f012c03b-e3cc-47e3-b729-d4b4c4bb9764',\n",
       " 3: 'd062dbbb-0408-4ab8-acd0-c5870222347f',\n",
       " 4: 'c556120d-2b51-4a06-95d0-f8ea4caab91b',\n",
       " 5: '5c89e2a2-2731-4487-9393-f8467700db44',\n",
       " 6: 'd5de85b8-27ad-4457-8a59-17820b9ae1cd',\n",
       " 7: 'e09113f6-ffa7-46a5-af4f-4a5b6d5b48ed',\n",
       " 8: 'b8d468d0-84cd-418b-b853-1c380cbf46a1',\n",
       " 9: 'eae71ede-a0aa-439e-82ec-d6c72dab39b4',\n",
       " 10: '6081b08b-a5b9-4b25-9052-da0f6bad0458',\n",
       " 11: '5989a707-c329-46b0-8502-4ee7eee738e0',\n",
       " 12: '3332b2b9-9ab8-4a05-bcbb-6d18e885fd6d',\n",
       " 13: '0ddfcf1e-a0e1-41b7-97bb-eeb140734686',\n",
       " 14: 'ca4ba1e9-5e80-4e16-90dd-8edfebba0973',\n",
       " 15: 'd10fcdd8-1c50-48b2-a071-91fb9124d2bd',\n",
       " 16: '3bdcb065-e866-4e2f-8581-6499ecd36d5c',\n",
       " 17: 'e3e4e084-9aa1-4625-abeb-f17fee52548e',\n",
       " 18: 'a214a5e1-13a5-4fad-b2c2-86052d42f155',\n",
       " 19: '44bd54f5-b6d9-4a32-a276-2b7f49153bbb',\n",
       " 20: '57b42fc0-bafb-4375-a077-04f69a9400fe',\n",
       " 21: '15a3d97f-e2d0-4e81-b794-66abf31f38ca',\n",
       " 22: 'abcf04d8-a2b9-4917-b1f8-eef74463bcde',\n",
       " 23: '063b2bb1-01f2-4baf-9333-1297804d9f32',\n",
       " 24: '20165ffb-f4c9-4ed8-b771-caf9eed9f3d7',\n",
       " 25: '66e9d4d2-7dda-4269-bfb3-cf23c74bb0e2',\n",
       " 26: '4c539d18-54b3-4dc6-b6f5-87d1bb3f302b',\n",
       " 27: 'b3e5f3c0-5a74-4e66-b866-aa3bd4451e52',\n",
       " 28: '20e80a4f-ea19-44eb-97b9-9b84bd6dc093',\n",
       " 29: '5f83facd-02f1-42a0-a56c-8ffa564616f8',\n",
       " 30: '759fa0c3-9298-4d3e-9ea3-3f86bbfeb1f9',\n",
       " 31: '30ead455-4b13-4b51-8cff-e675a04495ab',\n",
       " 32: '3eb7911c-6422-4766-b60a-a3d3ce249705',\n",
       " 33: 'ca51ed59-57d8-474d-9cca-ad3ac60f66fd',\n",
       " 34: '186767b9-5bd2-498e-8ad1-45a940f04959',\n",
       " 35: '34ef9082-41e3-4507-b795-6762d9294d14',\n",
       " 36: 'c95d5412-e210-47e0-920b-dae2dcdc8feb',\n",
       " 37: 'e46f9994-e0e2-4e94-b433-b1dacb016ca0',\n",
       " 38: '57592ddd-e142-4712-867a-d5682ca757f1',\n",
       " 39: 'f08dd6ed-d4ae-4b92-897c-8168c4141fbe',\n",
       " 40: '6761ad1a-e7e8-4663-9c1c-ccea04bad276',\n",
       " 41: '239fae41-0565-4667-be28-72dbe1a15315',\n",
       " 42: 'cfe5f34a-0af6-45ba-8f03-b4bd460af666',\n",
       " 43: '767cef3e-c49c-4c6e-b391-b5cfbea735fd',\n",
       " 44: '05e12953-1f2b-4488-b5da-061145b5016c',\n",
       " 45: '98a55236-62de-4200-b2df-2482f47a1ca2',\n",
       " 46: 'dcbc1256-84cb-4cc0-96a0-17af47a79ebe',\n",
       " 47: '9b0db096-a696-44d5-bcdb-31847f0497dd',\n",
       " 48: 'fb412dfa-0fef-4791-bceb-0478baa71322',\n",
       " 49: '5c3bd7ce-1fda-4479-a579-1b7822221958',\n",
       " 50: 'c9634975-d570-4134-94b7-73f5f1ac9830',\n",
       " 51: 'd2d27b8a-3649-4b1e-9b6d-fe499e52a0a9',\n",
       " 52: '05cc6368-c189-45e6-b126-6a18ce091612',\n",
       " 53: '12e9f0b0-9bf9-4e7f-a663-a7c2a83642d8',\n",
       " 54: '138f7a0b-c961-4576-82e5-527a78be5d95',\n",
       " 55: '60b6e037-064f-4286-b571-df59fc9ed8e9',\n",
       " 56: 'c47c8a11-3e9f-46bc-bb77-a0e29e6f73d4',\n",
       " 57: '8f776645-ee31-4fc0-9ec7-8ca100970554',\n",
       " 58: 'e250fab6-2dda-414b-a712-9ad3cdd19e0d',\n",
       " 59: '329aaac1-8d2b-4886-a04a-d54d0bde0d5f',\n",
       " 60: 'd7e5a50b-fb07-4a2c-94dd-aeb14076983d',\n",
       " 61: '4acb293e-5dfa-45e1-ae64-1708baf04979',\n",
       " 62: '2e36b9d0-2b64-4776-9108-dcf7a6bd8788',\n",
       " 63: '262b7771-ccb4-4bac-a639-6d11c911b8d0',\n",
       " 64: 'ff5808a1-e6c5-40eb-ae41-5a3fbb6409dc',\n",
       " 65: '8b33d45d-255e-45ae-9186-87e18ae6b3a3',\n",
       " 66: '55890573-5d1f-41f4-96e1-9b41baff46a2',\n",
       " 67: '51f57feb-b29a-4d98-bf70-8a8476e85121',\n",
       " 68: '8ed91b23-9620-46da-bc13-34af60c6961b',\n",
       " 69: 'f7bea838-9296-41f6-8d06-8747cec64b36',\n",
       " 70: 'a6133ed7-6781-456a-8587-b1e0b279966b',\n",
       " 71: '51cba736-23c2-4dd0-a0f3-3d4c33311730',\n",
       " 72: '230d8b89-7459-4800-9960-ab08ae165d9b',\n",
       " 73: '35437db6-2887-4421-8b5a-e901e33cffeb',\n",
       " 74: 'f5ff6e2c-f5ea-4175-9574-3b94e3dcd6e8',\n",
       " 75: 'd5f10713-aec4-428f-bfc3-c88cbc9c8258',\n",
       " 76: '22916cb5-4c82-45f8-9aeb-e869ebaf60fd',\n",
       " 77: '970dbcc3-8119-48a8-aea1-eb63ee2bbf5b',\n",
       " 78: '5421e780-b638-4c6c-984a-8d0d39a1cc73',\n",
       " 79: 'f4f1d81a-62f9-4a3d-98fb-39b5348f5a11',\n",
       " 80: 'e2b1fccf-02dd-48f0-bf30-9e7d15d67155',\n",
       " 81: '0157d5bc-44d5-4f88-9859-cde81e4b3142',\n",
       " 82: 'be412201-9bd8-4191-8267-7b0911f37a28',\n",
       " 83: '320e902a-bcb5-4ab5-865a-005a9430b53e',\n",
       " 84: '7162ea24-655c-4461-9cae-1debcb4cffd0',\n",
       " 85: 'fc625d5a-7832-4202-b40a-13dda886b32e',\n",
       " 86: '5c5ad9a9-c14e-4f75-8a4e-cb7ec74f16a7',\n",
       " 87: 'a779c8a3-308f-4649-b74d-5a7961fac5df',\n",
       " 88: 'a96ce520-fa49-4b7b-9b51-639730ac31a6',\n",
       " 89: '5370dbb1-1802-4b15-8b02-3c8b220e0f48',\n",
       " 90: '73bcd758-e6ac-40fd-b9b4-49bb4af5e2ac',\n",
       " 91: 'bd0878e4-4a60-4eda-bd54-8d3fd01f950b',\n",
       " 92: '06581b80-cb93-4572-aa73-717da44314e5',\n",
       " 93: 'fda4f6fe-9a4c-4404-b3f1-d3c2b570fab5',\n",
       " 94: 'daf4a67d-39e0-4042-a0c2-b5352359f542',\n",
       " 95: 'ed48413f-eaf9-4807-b38b-9f4cfb673c50',\n",
       " 96: '585fe8ad-a6ea-4f01-83f7-7fd67ccc52f4',\n",
       " 97: 'aafb9509-251b-49f3-b76e-f22868592b36',\n",
       " 98: '917a8d41-8ead-4f31-8f25-7fe61d025a14',\n",
       " 99: 'bea42fc5-3d2b-4192-85e7-2836cf51a054',\n",
       " 100: '90f5c04d-23d9-4a3f-882d-cc39422ddc67',\n",
       " 101: '4da3fa63-1b67-48f2-b8ff-d2a2859db468',\n",
       " 102: '94a33ce7-67ac-4309-aaec-6681a6a2af15',\n",
       " 103: 'b3589bc5-daec-485f-b13c-e246ac708005',\n",
       " 104: '4f2f8e85-d803-4d88-804a-46752782c42a',\n",
       " 105: '56e4ad15-9387-4a6f-b47d-b0d74b7fbe3c',\n",
       " 106: '62a84a4a-fdcb-4797-835c-2088272a07e7',\n",
       " 107: 'a49d2963-1c6a-41fd-9255-3ada411f3917',\n",
       " 108: '4a23e18d-f3b5-4df9-85bd-b7eb51478fac',\n",
       " 109: '9b46889c-0109-4228-bc94-277d344d4416',\n",
       " 110: '44e415b5-329c-43ee-9a4e-361ad84e8901',\n",
       " 111: 'accb5baa-e547-4806-b5c0-122a5b611467',\n",
       " 112: '296d72b3-749c-4b78-b83c-7d7f210e0b7d',\n",
       " 113: 'e661c7e4-1b23-4ce8-8f49-84649e4dec79',\n",
       " 114: '2f2a3cb2-c355-4377-9927-0ab90c3d29a3',\n",
       " 115: 'e31d08f1-3c93-4909-b7f3-310455f5ecc8',\n",
       " 116: 'fe47a812-a3a7-4804-a642-2035c6a2d7f3',\n",
       " 117: '1bb0643e-1888-4a1d-bcd6-64b4de7153d8',\n",
       " 118: 'db934274-a952-40ea-a68d-f7ccf004c566',\n",
       " 119: '433f8b32-9bc4-4a35-9cb7-8a40d189adbd',\n",
       " 120: '028921fd-cbe7-4e24-9e79-8f9d5ea621bb',\n",
       " 121: '1113e5bb-7a8e-4839-9885-576c9ad53e88',\n",
       " 122: 'a82bcc67-a247-44a2-b2e4-3d9c2c6e33fc',\n",
       " 123: '68694b4d-6873-4672-a337-c665ce9e100b',\n",
       " 124: 'e3a45024-725e-46a9-995d-7f187496a884',\n",
       " 125: 'fd5a236a-ed5c-4379-a17a-1cfcf3feb7a8',\n",
       " 126: '6b6fa144-c5d2-4df3-b212-5ca3865f999f',\n",
       " 127: 'd24f8313-15f3-4a96-aca8-8b90cbf32b7f',\n",
       " 128: '086af169-4575-40f7-8264-8ed7d697f58d',\n",
       " 129: '88782763-da6a-494f-8c4b-9c17d975bc8c',\n",
       " 130: '55b1ecd5-7a17-422a-a4a6-79c490d10a90',\n",
       " 131: '1a9b8cb9-94bd-4957-b5a8-6e8dde17f626',\n",
       " 132: '896c6a68-ee40-4c7c-853c-414a4419c675',\n",
       " 133: '9016423e-0ba3-47cf-b2bf-32e830213656',\n",
       " 134: '1084d563-aba4-409d-8d7b-eeaae798f5ef',\n",
       " 135: '8e2cb936-990d-4c28-9362-fd4dae8abfc9',\n",
       " 136: 'c288b662-c62e-46f0-97a0-c5963d242f34',\n",
       " 137: 'ec56f875-efaf-480d-866e-681d5583bba3',\n",
       " 138: 'ae574e34-bbe5-42da-af7b-eaf7ced615a7',\n",
       " 139: '79f79097-69cc-4aff-ad7c-6fab9ceaba20',\n",
       " 140: 'ccde7996-5bfc-49c8-93c2-dbf6604a9fda',\n",
       " 141: '6efd9c48-7806-45b3-bd68-e682f46d6975',\n",
       " 142: '3f0b9f67-6838-4378-99a8-52875faca71b',\n",
       " 143: '55b769b5-09d1-48a5-bced-e00bea72c407',\n",
       " 144: '982c7655-f0ef-4a8d-905a-bbde5fe4fcd9',\n",
       " 145: '57e09915-6a18-4379-b587-cf13eb30bd0d',\n",
       " 146: 'fd73d93e-dd0d-4d2b-8fcd-1b884f8bce4c',\n",
       " 147: '9ce8de87-4866-4d30-afca-f3428c224299',\n",
       " 148: 'e773e0e2-81ae-4d01-8538-78af6820a30e',\n",
       " 149: 'd79f991d-aa1b-470a-87b4-6875ab1f3880',\n",
       " 150: '6127c73d-3bdd-485b-894c-593e784ec7ab',\n",
       " 151: '11abb95e-fce7-42cf-b28f-340ca936e895',\n",
       " 152: '14688f80-e7e7-4388-99f0-128836145133',\n",
       " 153: '36a23b89-4f19-4d3b-99ec-258be7cf1990',\n",
       " 154: 'f21445a9-8e29-40c6-92be-4a54c22b3313',\n",
       " 155: '28827be0-8d3f-44c2-b112-c97771c5c86a',\n",
       " 156: '151a862e-1dde-46f8-ac12-a98a179d1857',\n",
       " 157: 'e332b0fe-32d2-402e-b374-dff42d4108ed',\n",
       " 158: '0c5e0a49-a5c8-4021-854f-a1c77939d005',\n",
       " 159: '1cc44c28-5652-4a0f-a860-30d751f8e88e',\n",
       " 160: 'cfadf3ce-0685-4cfc-b838-6f37f2887679',\n",
       " 161: 'aa08b701-ec6a-4dcd-81dd-2ac3152352eb',\n",
       " 162: '5f159afb-2c4f-4a35-843b-11b693e98580',\n",
       " 163: '1416acd7-f21d-409a-be5f-63a3255cb90b',\n",
       " 164: 'f64f9055-8a02-40f0-b75e-d23d85ac58d2',\n",
       " 165: '38221f85-3cbd-4d5e-b845-5d25deade22e',\n",
       " 166: '2b5b40e9-425e-457e-ae00-e967270db7f0',\n",
       " 167: '5d7650bc-c873-4a2c-ab06-fae00107b3db',\n",
       " 168: '6613b961-4426-4891-95d9-63eb94451157',\n",
       " 169: '85ea4c03-3013-41cc-9949-5601f1bd82e9',\n",
       " 170: '0bc0b623-bf86-46ec-b0a0-fc8fc37270bf',\n",
       " 171: 'c3a18b35-4f24-4bce-9da9-4c39c2e379fe',\n",
       " 172: 'f6911a76-5231-4a0a-92ab-3d3d93383e78',\n",
       " 173: 'b553b1c0-8310-44f6-a14e-dd5928854769',\n",
       " 174: 'b7c3ad2f-bfaf-4cc3-8cb6-288f202d7acf',\n",
       " 175: 'ab172776-ecef-4d25-8b25-56f40ffc0fe2',\n",
       " 176: '41357589-e9c8-4aa6-b699-d17d503b2d2d',\n",
       " 177: '019f3874-1472-42f9-9ce2-657c0b17c65b',\n",
       " 178: '9037a6ec-a8f8-423c-8654-d29e0fb9abcf',\n",
       " 179: 'f868b85c-0b57-472f-9d91-ce6f70fdea3b',\n",
       " 180: '6d1e5523-000b-4b60-8814-fa9ba0f17ec0',\n",
       " 181: 'f6b6110c-1d78-434a-8420-0a9c14bc7cf6',\n",
       " 182: 'ce5ce310-fcff-493f-9d19-855eae9dcdd0',\n",
       " 183: '23e5385d-438d-4b14-8c4c-eec12a76a14b',\n",
       " 184: '868965cb-e68d-47ec-810a-9439ec1a1bef',\n",
       " 185: '2caca6a7-ef8b-4884-8a2e-252988a206eb',\n",
       " 186: '4a7cf89a-d6d0-45c9-8aa3-866f73fd4bf1',\n",
       " 187: 'a288e072-182f-41d4-a825-d0396241a059',\n",
       " 188: '8f9d735f-2412-47e2-a878-690273ae1de7',\n",
       " 189: 'a80964a8-e0fd-42eb-bf2e-2caa2905eb59',\n",
       " 190: '83f34729-f9ce-42f0-be95-11521a9517fe',\n",
       " 191: '61b6c37b-a5b5-4852-9054-3d7ebc0fc8e3',\n",
       " 192: 'b3fb44fb-3677-4e85-8680-e1774fbdf926',\n",
       " 193: '71578795-ff22-4c58-9c11-252d50dbabff',\n",
       " 194: '7bb26898-989f-461b-b568-c1f3366b121c',\n",
       " 195: 'd28ca6c5-34c1-43d7-8ede-87711df3a48d',\n",
       " 196: '4209116f-d293-4191-bee7-bd69a9310e6f',\n",
       " 197: '686ee711-fe66-4858-b4fc-a9e918c712d0',\n",
       " 198: 'b00ae8f6-1fab-4318-84bd-a8b1b26a20d0',\n",
       " 199: '629cc390-9e1a-4cff-b755-af4a108be572',\n",
       " 200: '651a93cf-d14e-49da-8831-9b8e0ac3f45c',\n",
       " 201: '3084b874-e257-4b25-b810-b9619ba7b938',\n",
       " 202: 'aa6dc6c9-f3d2-4eac-855a-4138abbf2258',\n",
       " 203: '388071f8-304e-4920-9cd9-580a1384b2dc',\n",
       " 204: '4ccca353-0540-408d-a78a-aa64a68b6257',\n",
       " 205: '1f6438d3-867b-4d90-8de0-b04a83c29823',\n",
       " 206: 'fae3bebc-0fb1-4984-bbe2-50aded1c87c7',\n",
       " 207: '06bdbd15-83df-4308-8722-1b4b9e3c0132',\n",
       " 208: 'a5deef2c-1c81-47a5-bade-ca43b4000cd6',\n",
       " 209: '9e9f4c34-20eb-47e5-aceb-ec034144e178',\n",
       " 210: '8bdb402a-7158-49ed-a7b8-8b66293f7454',\n",
       " 211: '210e8d37-245d-4c32-89ce-36e55e1c1859',\n",
       " 212: '6d5544dd-cce9-4bc1-85bb-f69409b7daf8',\n",
       " 213: '7cfe9ab7-f8b4-42aa-8745-69001d33706f',\n",
       " 214: '8cf769ba-38f5-4611-bb4f-54e11184b3ff',\n",
       " 215: 'ce37f1b5-00d5-4cdd-8777-8c205941c789',\n",
       " 216: '6af526b9-5a44-4803-a4f9-e381cb1d8db8',\n",
       " 217: '5af1c472-a39a-4cd2-b14b-fca5f361079d',\n",
       " 218: 'c1d0e903-2179-4f4d-84cd-142143a098bf',\n",
       " 219: '5be96f45-3953-4fc6-a010-e30e07a6bfc6',\n",
       " 220: '2b693ce8-b70e-4b00-a9db-6ed24a412adf',\n",
       " 221: 'd8635fb5-53a9-4df7-a3c6-6f6f991c8850',\n",
       " 222: '157269b0-e026-4006-aeff-be87e790ff64',\n",
       " 223: '4269b939-fd7d-4f08-8039-4132611b8812',\n",
       " 224: '606e168f-0080-464c-a877-0488370125bd',\n",
       " 225: 'fdc2d6b4-57b8-458c-8198-e4b4be56a3a6',\n",
       " 226: '30ec1e3b-9308-4614-a610-3ea9a531641c',\n",
       " 227: '8a28d12d-97a0-472a-89d7-33de9ccd4540',\n",
       " 228: '6aafbf08-f8d4-42a4-a335-d89e56e34fcd',\n",
       " 229: '53b16212-ff7f-429e-9c91-f4bff75eb6ef',\n",
       " 230: 'a79d5088-de65-4a6d-a58f-a9d31dfebd44',\n",
       " 231: 'c20df61b-ec16-422d-93db-cd85cc743c4a',\n",
       " 232: 'da8f9f8e-8ff7-4e89-820c-886b23bb8d33',\n",
       " 233: '6e63d8b3-b2c6-4325-9853-0e57f09623b9',\n",
       " 234: 'b964d99c-fe7c-4c84-b73b-a4161d97cb05',\n",
       " 235: '4de409cb-0b0f-44aa-ae2f-1925a608fd36',\n",
       " 236: '8a6e4df9-a156-4aaa-9304-816546cc0fa0',\n",
       " 237: '1c7daf7e-5497-45d0-bdfc-ee1a3191aec2',\n",
       " 238: 'b578ae87-50de-4d88-b016-4532bbdf3ce0',\n",
       " 239: 'b23e01da-f9dd-4b18-8129-2130c380695d',\n",
       " 240: 'b2357a83-f282-433c-ac94-73be9fc0e21c',\n",
       " 241: '3c1c2cf0-e090-41e8-ac4e-20d66610264e',\n",
       " 242: 'a0172054-e7e6-4176-b396-869ff975a685',\n",
       " 243: '7c8a66e0-e228-492e-af9f-9c5ae5436a85',\n",
       " 244: 'd793f487-da37-4689-be0b-2b802249da94',\n",
       " 245: 'f9f10097-3188-4a80-a424-b226b33a6770',\n",
       " 246: '308bdcf7-e4c3-4a7f-a5b9-183aa430cb03',\n",
       " 247: '4ce79669-9718-432d-b1ac-f509ceeb0586',\n",
       " 248: '151b1856-79d7-48ad-9b73-d42a235e73e0',\n",
       " 249: 'a5b1d84b-8bfa-43b6-887b-c5d56b1cf8ab',\n",
       " 250: 'b0c90fd2-9b92-4f97-9e71-358a1bf7f99e',\n",
       " 251: 'f29273cb-eeaa-489a-a772-5376b000400e',\n",
       " 252: 'ec754005-a498-4b40-aeb7-00536f15f94b',\n",
       " 253: 'c63e4a16-0299-474f-8f3c-1293d4b00788',\n",
       " 254: '187cc393-f046-4ecf-bcab-6bb750c41922',\n",
       " 255: '33ea2a01-1311-4d6b-b5eb-1c91dc25ad36',\n",
       " 256: 'd627d637-c8ab-40f7-8400-6919c03ea0c3',\n",
       " 257: '2e6d851a-7aa3-458b-a92a-8bd742f47b52',\n",
       " 258: '0427229b-d0c6-4e51-8d6e-f4ac892db3c5',\n",
       " 259: '2e73fdf6-aeb8-48b7-8738-37bd98b31501',\n",
       " 260: '66f79def-c7eb-4950-b87d-33c6fa263d17',\n",
       " 261: '8e3cb3bf-16f1-454f-a8bd-fe3fa07bbd7c',\n",
       " 262: '0ddbabce-b59d-4c9f-a041-5120792e7f4a',\n",
       " 263: '1eb72d2a-7881-40f9-93ae-a71d2e219661',\n",
       " 264: '54ccc23a-0c98-4fec-a556-ff1c427a92da',\n",
       " 265: '543eab31-fd62-4c1c-88f0-478f5cb14290',\n",
       " 266: 'f4251779-8f00-4042-bd98-cd057f569a3e',\n",
       " 267: '08d4f86e-aeef-4364-b5c0-c55812cc8950',\n",
       " 268: '1ae4bf1d-a277-49b5-ae5d-2a5a0ad3cad3',\n",
       " 269: 'e7b29be4-1e2a-4817-bf15-4e4f3fef6c38',\n",
       " 270: '6b25f655-8a0b-4535-b107-c087b28431ed',\n",
       " 271: '453c481b-7fd1-4c67-8d22-8f54473373ac',\n",
       " 272: '485b9c52-10e2-48aa-9abe-acf52284f964',\n",
       " 273: '5cc17961-b6a7-48e6-9994-c52520332ef2',\n",
       " 274: '905ebffb-3a6c-4f50-8429-86fcd8e2ea6a',\n",
       " 275: 'c3e6db73-527d-46e8-8a53-6449f596974e',\n",
       " 276: '29b3202d-90c0-4124-bf50-6734173d8a36',\n",
       " 277: '187377a2-2ece-4585-be1c-33c428bbd950',\n",
       " 278: 'cca746b2-6547-4ebb-ad5f-4e658233994b',\n",
       " 279: '89b4a62d-7f17-4863-8b5d-af2e27ec9e2d',\n",
       " 280: 'aeca28cc-565e-4a88-9948-743f224537fb',\n",
       " 281: '3892f088-21c8-4892-b969-cf903c32a5ea',\n",
       " 282: 'bffaf443-0d21-4647-97e5-dee3c83c94f3',\n",
       " 283: 'cd98e639-5a6a-44a6-81c2-1a0127d8a274',\n",
       " 284: 'ca7bc6fc-02f4-408f-bb27-621c89f24d17',\n",
       " 285: '7e7722ce-8417-4e59-95da-9beec0f0da28',\n",
       " 286: '4c1badd9-d338-482e-ad51-de565b74250a',\n",
       " 287: '955b97a3-b43a-453d-8d6f-460d98e8f674'}"
      ]
     },
     "execution_count": 169,
     "metadata": {},
     "output_type": "execute_result"
    }
   ],
   "source": [
    "vector_store.index_to_docstore_id"
   ]
  },
  {
   "cell_type": "code",
   "execution_count": 185,
   "id": "5fa6bcd3",
   "metadata": {},
   "outputs": [
    {
     "data": {
      "text/plain": [
       "[Document(id='57b42fc0-bafb-4375-a077-04f69a9400fe', metadata={'producer': 'calibre (4.22.0) [https://calibre-ebook.com]', 'creator': 'calibre (4.22.0) [https://calibre-ebook.com]', 'creationdate': '2020-08-03T08:47:10+00:00', 'author': 'Paulo Coelho', 'keywords': 'Mobilism', 'moddate': '2020-08-03T16:47:20+08:00', 'title': 'The Alchemist', 'source': '/home/nurshed/Desktop/python/project/RAG Study/firstProject/the_alchemist.pdf', 'total_pages': 136}, page_content='seemingly endless hours between sunrise and dusk; and they had\\nnever read a book in their young lives, and didn’t understand when\\nthe boy told them about the sights of the cities. They were content\\nwith just food and water, and, in exchange, they generously gave of\\ntheir wool, their company, and—once in a while—their meat.\\nIf I became a monster today, and decided to kill them, one by one,\\nthey would become aware only after most of the flock had been\\nslaughtered, thought the boy. They trust me, and they’ve forgotten\\nhow to rely on their own instincts, because I lead them to\\nnourishment.\\nThe boy was surprised at his thoughts. Maybe the church, with the\\nsycamore growing from within, had been haunted. It had caused him\\nto have the same dream for a second time, and it was causing him to\\nfeel anger toward his faithful companions. He drank a bit from the\\nwine that remained from his dinner of the night before, and he\\ngathered his jacket closer to his body. He knew that a few hours from')]"
      ]
     },
     "execution_count": 185,
     "metadata": {},
     "output_type": "execute_result"
    }
   ],
   "source": [
    "vector_store.get_by_ids(['57b42fc0-bafb-4375-a077-04f69a9400fe'])"
   ]
  },
  {
   "cell_type": "markdown",
   "id": "9e3528fb",
   "metadata": {},
   "source": [
    "Retriver"
   ]
  },
  {
   "cell_type": "code",
   "execution_count": 180,
   "id": "dd3e7406",
   "metadata": {},
   "outputs": [],
   "source": [
    "retriever = vector_store.as_retriever(search_type=\"similarity\", search_kwargs={\"k\": 5})"
   ]
  },
  {
   "cell_type": "code",
   "execution_count": 181,
   "id": "b3fadad2",
   "metadata": {},
   "outputs": [
    {
     "data": {
      "text/plain": [
       "VectorStoreRetriever(tags=['FAISS', 'HuggingFaceEmbeddings'], vectorstore=<langchain_community.vectorstores.faiss.FAISS object at 0x77018dac6960>, search_kwargs={'k': 5})"
      ]
     },
     "execution_count": 181,
     "metadata": {},
     "output_type": "execute_result"
    }
   ],
   "source": [
    "retriever"
   ]
  },
  {
   "cell_type": "code",
   "execution_count": 182,
   "id": "e4b6d2a7",
   "metadata": {},
   "outputs": [
    {
     "data": {
      "text/plain": [
       "[Document(id='be412201-9bd8-4191-8267-7b0911f37a28', metadata={'producer': 'calibre (4.22.0) [https://calibre-ebook.com]', 'creator': 'calibre (4.22.0) [https://calibre-ebook.com]', 'creationdate': '2020-08-03T08:47:10+00:00', 'author': 'Paulo Coelho', 'keywords': 'Mobilism', 'moddate': '2020-08-03T16:47:20+08:00', 'title': 'The Alchemist', 'source': '/home/nurshed/Desktop/python/project/RAG Study/firstProject/the_alchemist.pdf', 'total_pages': 136}, page_content='The crystal merchant awoke with the day, and felt the same anxiety\\nthat he felt every morning. He had been in the same place for thirty\\nyears: a shop at the top of a hilly street where few customers\\npassed. Now it was too late to change anything—the only thing he\\nhad ever learned to do was to buy and sell crystal glassware. There\\nhad been a time when many people knew of his shop: Arab\\nmerchants, French and English geologists, German soldiers who\\nwere always well-heeled. In those days it had been wonderful to be\\nselling crystal, and he had thought how he would become rich, and\\nhave beautiful women at his side as he grew older.\\nBut, as time passed, Tangier had changed. The nearby city of\\nCeuta had grown faster than Tangier, and business had fallen off.\\nNeighbors moved away, and there remained only a few small shops\\non the hill. And no one was going to climb the hill just to browse\\nthrough a few small shops.\\nBut the crystal merchant had no choice. He had lived thirty years'),\n",
       " Document(id='a49d2963-1c6a-41fd-9255-3ada411f3917', metadata={'producer': 'calibre (4.22.0) [https://calibre-ebook.com]', 'creator': 'calibre (4.22.0) [https://calibre-ebook.com]', 'creationdate': '2020-08-03T08:47:10+00:00', 'author': 'Paulo Coelho', 'keywords': 'Mobilism', 'moddate': '2020-08-03T16:47:20+08:00', 'title': 'The Alchemist', 'source': '/home/nurshed/Desktop/python/project/RAG Study/firstProject/the_alchemist.pdf', 'total_pages': 136}, page_content='the old merchant’s hair was very much like the hair of the old king.\\nHe remembered the smile of the candy seller, on his first day in\\nTangier, when he had nothing to eat and nowhere to go—that smile\\nhad also been like the old king’s smile.\\nIt’s almost as if he had been here and left his mark, he thought.\\nAnd yet, none of these people has ever met the old king. On the\\nother hand, he said that he always appeared to help those who are\\ntrying to realize their Personal Legend.\\nHe left without saying good-bye to the crystal merchant. He didn’t\\nwant to cry with the other people there. He was going to miss the\\nplace and all the good things he had learned. He was more confident\\nin himself, though, and felt as though he could conquer the world.\\n“But I’m going back to the fields that I know, to take care of my\\nflock again.” He said that to himself with certainty, but he was no\\nlonger happy with his decision. He had worked for an entire year to'),\n",
       " Document(id='320e902a-bcb5-4ab5-865a-005a9430b53e', metadata={'producer': 'calibre (4.22.0) [https://calibre-ebook.com]', 'creator': 'calibre (4.22.0) [https://calibre-ebook.com]', 'creationdate': '2020-08-03T08:47:10+00:00', 'author': 'Paulo Coelho', 'keywords': 'Mobilism', 'moddate': '2020-08-03T16:47:20+08:00', 'title': 'The Alchemist', 'source': '/home/nurshed/Desktop/python/project/RAG Study/firstProject/the_alchemist.pdf', 'total_pages': 136}, page_content='on the hill. And no one was going to climb the hill just to browse\\nthrough a few small shops.\\nBut the crystal merchant had no choice. He had lived thirty years\\nof his life buying and selling crystal pieces, and now it was too late to\\n\\x0cdo anything else.\\nHe spent the entire morning observing the infrequent comings and\\ngoings in the street. He had done this for years, and knew the\\nschedule of everyone who passed. But, just before lunchtime, a boy\\nstopped in front of the shop. He was dressed normally, but the\\npracticed eyes of the crystal merchant could see that the boy had no\\nmoney to spend. Nevertheless, the merchant decided to delay his\\nlunch for a few minutes until the boy moved on.\\nA card hanging in the doorway announced that several languages\\nwere spoken in the shop. The boy saw a man appear behind the\\ncounter.\\n“I can clean up those glasses in the window, if you want,” said the\\nboy. “The way they look now, nobody is going to want to buy them.”'),\n",
       " Document(id='a96ce520-fa49-4b7b-9b51-639730ac31a6', metadata={'producer': 'calibre (4.22.0) [https://calibre-ebook.com]', 'creator': 'calibre (4.22.0) [https://calibre-ebook.com]', 'creationdate': '2020-08-03T08:47:10+00:00', 'author': 'Paulo Coelho', 'keywords': 'Mobilism', 'moddate': '2020-08-03T16:47:20+08:00', 'title': 'The Alchemist', 'source': '/home/nurshed/Desktop/python/project/RAG Study/firstProject/the_alchemist.pdf', 'total_pages': 136}, page_content='But he stayed with the job because the merchant, although he\\nwas an old grouch, treated him fairly; the boy received a good\\ncommission for each piece he sold, and had already been able to put\\nsome money aside. That morning he had done some calculating: if\\nhe continued to work every day as he had been, he would need a\\nwhole year to be able to buy some sheep.\\n“I’d like to build a display case for the crystal,” the boy said to the\\nmerchant. “We could place it outside, and attract those people who\\npass at the bottom of the hill.”\\n“I’ve never had one before,” the merchant answered. “People will\\npass by and bump into it, and pieces will be broken.”\\n“Well, when I took my sheep through the fields some of them\\nmight have died if we had come upon a snake. But that’s the way life\\nis with sheep and with shepherds.”\\nThe merchant turned to a customer who wanted three crystal\\nglasses. He was selling better than ever . . . as if time had turned'),\n",
       " Document(id='44e415b5-329c-43ee-9a4e-361ad84e8901', metadata={'producer': 'calibre (4.22.0) [https://calibre-ebook.com]', 'creator': 'calibre (4.22.0) [https://calibre-ebook.com]', 'creationdate': '2020-08-03T08:47:10+00:00', 'author': 'Paulo Coelho', 'keywords': 'Mobilism', 'moddate': '2020-08-03T16:47:20+08:00', 'title': 'The Alchemist', 'source': '/home/nurshed/Desktop/python/project/RAG Study/firstProject/the_alchemist.pdf', 'total_pages': 136}, page_content='don’t find it, I can always go home. I finally have enough money, and\\nall the time I need. Why not?\\nHe suddenly felt tremendously happy. He could always go back to\\nbeing a shepherd. He could always become a crystal salesman\\nagain. Maybe the world had other hidden treasures, but he had a\\ndream, and he had met with a king. That doesn’t happen to just\\nanyone!\\nHe was planning as he left the bar. He had remembered that one\\nof the crystal merchant’s suppliers transported his crystal by means\\nof caravans that crossed the desert. He held Urim and Thummim in\\nhis hand; because of those two stones, he was once again on the\\nway to his treasure.\\n“I am always nearby, when someone wants to realize their\\nPersonal Legend,” the old king had told him.\\nWhat could it cost to go over to the supplier’s warehouse and find\\nout if the Pyramids were really that far away?\\nThe Englishman was sitting on a bench in a structure that smelled of\\nanimals, sweat, and dust; it was part warehouse, part corral. I never')]"
      ]
     },
     "execution_count": 182,
     "metadata": {},
     "output_type": "execute_result"
    }
   ],
   "source": [
    "retriever.invoke('who is crystal merchant')"
   ]
  },
  {
   "cell_type": "markdown",
   "id": "605ba369",
   "metadata": {},
   "source": [
    "Augmentation"
   ]
  },
  {
   "cell_type": "code",
   "execution_count": 188,
   "id": "252fe41b",
   "metadata": {},
   "outputs": [
    {
     "name": "stdout",
     "output_type": "stream",
     "text": [
      "✅ Google API key loaded successfully.\n"
     ]
    }
   ],
   "source": [
    "import getpass\n",
    "import os\n",
    "from dotenv import load_dotenv\n",
    "\n",
    "def configure():\n",
    "    load_dotenv()\n",
    "\n",
    "    api_key = os.getenv(\"GOOGLE_API_KEY\")\n",
    "\n",
    "    if not api_key:\n",
    "        api_key = getpass.getpass(\"Enter your Google API key: \")\n",
    "        os.environ[\"GOOGLE_API_KEY\"] = api_key\n",
    "\n",
    "    return api_key\n",
    "\n",
    "GOOGLE_API_KEY = configure()\n",
    "print(\"✅ Google API key loaded successfully.\")\n"
   ]
  },
  {
   "cell_type": "code",
   "execution_count": 189,
   "id": "8a701095",
   "metadata": {},
   "outputs": [
    {
     "name": "stderr",
     "output_type": "stream",
     "text": [
      "E0000 00:00:1760700790.975899    9444 alts_credentials.cc:93] ALTS creds ignored. Not running on GCP and untrusted ALTS is not enabled.\n"
     ]
    }
   ],
   "source": [
    "# ----------------------------\n",
    "# Imports\n",
    "# ----------------------------\n",
    "from langchain_google_genai import ChatGoogleGenerativeAI\n",
    "from langchain.prompts import PromptTemplate\n",
    "\n",
    "# ----------------------------\n",
    "# LLM Setup: Gemini 2.5 Pro\n",
    "# ----------------------------\n",
    "llm = ChatGoogleGenerativeAI(\n",
    "    model=\"gemini-2.5-pro\",\n",
    "    temperature=0.2,\n",
    "    convert_system_message_to_human=True\n",
    ")"
   ]
  },
  {
   "cell_type": "code",
   "execution_count": 190,
   "id": "a5bea011",
   "metadata": {},
   "outputs": [],
   "source": [
    "# ----------------------------\n",
    "# Prompt Template\n",
    "# ----------------------------\n",
    "prompt = PromptTemplate(\n",
    "    template=\"\"\"\n",
    "      You are a helpful assistant.\n",
    "      Answer ONLY from the provided document context.\n",
    "      If the context is insufficient, just say you don't know.\n",
    "\n",
    "      {context}\n",
    "      Question: {question}\n",
    "    \"\"\",\n",
    "    input_variables=['context', 'question']\n",
    ")"
   ]
  },
  {
   "cell_type": "code",
   "execution_count": 199,
   "id": "7b8ea418",
   "metadata": {},
   "outputs": [],
   "source": [
    "# ----------------------------\n",
    "# Retrieve + Prepare Context\n",
    "# ----------------------------\n",
    "question = \"is the topic of Pyramid in this document? if yes then what was discussed\"\n",
    "retrieved_docs = retriever.invoke(question)"
   ]
  },
  {
   "cell_type": "code",
   "execution_count": 200,
   "id": "9e06ff14",
   "metadata": {},
   "outputs": [
    {
     "data": {
      "text/plain": [
       "'very presence in the shop was an omen, and, as time passed and\\nmoney was pouring into the cash drawer, he had no regrets about\\nhaving hired the boy. The boy was being paid more money than he\\ndeserved, because the merchant, thinking that sales wouldn’t\\namount to much, had offered the boy a high commission rate. He\\nhad assumed he would soon return to his sheep.\\n“Why did you want to get to the Pyramids?” he asked, to get away\\nfrom the business of the display.\\n“Because I’ve always heard about them,” the boy answered,\\nsaying nothing about his dream. The treasure was now nothing but a\\npainful memory, and he tried to avoid thinking about it.\\n“I don’t know anyone around here who would want to cross the\\ndesert just to see the Pyramids,” said the merchant. “They’re just a\\npile of stones. You could build one in your backyard.”\\n“You’ve never had dreams of travel,” said the boy, turning to wait\\non a customer who had entered the shop.\\nTwo days later, the merchant spoke to the boy about the display.\\n\\nwith the animals. I don’t like people to do that, because the sheep\\nare afraid of strangers. But children always seem to be able to play\\nwith them without frightening them. I don’t know why. I don’t know\\nhow animals know the age of human beings.”\\n“Tell me more about your dream,” said the woman. “I have to get\\nback to my cooking, and, since you don’t have much money, I can’t\\ngive you a lot of time.”\\n“The child went on playing with my sheep for quite a while,”\\ncontinued the boy, a bit upset. “And suddenly, the child took me by\\nboth hands and transported me to the Egyptian pyramids.”\\nHe paused for a moment to see if the woman knew what the\\nEgyptian pyramids were. But she said nothing.\\n“Then, at the Egyptian pyramids,”—he said the last three words\\nslowly, so that the old woman would understand—“the child said to\\nme, ‘If you come here, you will find a hidden treasure.’ And, just as\\nshe was about to show me the exact location, I woke up. Both\\ntimes.”\\n\\nout if the Pyramids were really that far away?\\nThe Englishman was sitting on a bench in a structure that smelled of\\nanimals, sweat, and dust; it was part warehouse, part corral. I never\\n\\x0cthought I’d end up in a place like this, he thought, as he leafed\\nthrough the pages of a chemical journal. Ten years at the university,\\nand here I am in a corral.\\nBut he had to move on. He believed in omens. All his life and all\\nhis studies were aimed at finding the one true language of the\\nuniverse. First he had studied Esperanto, then the world’s religions,\\nand now it was alchemy. He knew how to speak Esperanto, he\\nunderstood all the major religions well, but he wasn’t yet an\\nalchemist. He had unraveled the truths behind important questions,\\nbut his studies had taken him to a point beyond which he could not\\nseem to go. He had tried in vain to establish a relationship with an\\nalchemist. But the alchemists were strange people, who thought only\\n\\n“I can work for the rest of today,” the boy answered. “I’ll work all\\nnight, until dawn, and I’ll clean every piece of crystal in your shop. In\\nreturn, I need money to get to Egypt tomorrow.”\\nThe merchant laughed. “Even if you cleaned my crystal for an\\nentire year . . . even if you earned a good commission selling every\\npiece, you would still have to borrow money to get to Egypt. There\\nare thousands of kilometers of desert between here and there.”\\nThere was a moment of silence so profound that it seemed the\\ncity was asleep. No sound from the bazaars, no arguments among\\nthe merchants, no men climbing to the towers to chant. No hope, no\\nadventure, no old kings or Personal Legends, no treasure, and no\\nPyramids. It was as if the world had fallen silent because the boy’s\\nsoul had. He sat there, staring blankly through the door of the café,\\nwishing that he had died, and that everything would end forever at\\nthat moment.\\nThe merchant looked anxiously at the boy. All the joy he had seen\\n\\n“It’s a dream in the language of the world,” she said. “I can\\ninterpret it, but the interpretation is very difficult. That’s why I feel that\\nI deserve a part of what you find.\\n“And this is my interpretation: you must go to the Pyramids in\\nEgypt. I have never heard of them, but, if it was a child who showed\\nthem to you, they exist. There you will find a treasure that will make\\nyou a rich man.”\\nThe boy was surprised, and then irritated. He didn’t need to seek\\nout the old woman for this! But then he remembered that he wasn’t\\ngoing to have to pay anything.\\n“I didn’t need to waste my time just for this,” he said.\\n“I told you that your dream was a difficult one. It’s the simple\\nthings in life that are the most extraordinary; only wise men are able\\nto understand them. And since I am not wise, I have had to learn\\nother arts, such as the reading of palms.”\\n“Well, how am I going to get to Egypt?”\\n“I only interpret dreams. I don’t know how to turn them into reality.'"
      ]
     },
     "execution_count": 200,
     "metadata": {},
     "output_type": "execute_result"
    }
   ],
   "source": [
    "context_text = \"\\n\\n\".join(doc.page_content for doc in retrieved_docs)\n",
    "context_text"
   ]
  },
  {
   "cell_type": "code",
   "execution_count": 201,
   "id": "1cb409c0",
   "metadata": {},
   "outputs": [
    {
     "data": {
      "text/plain": [
       "StringPromptValue(text=\"\\n      You are a helpful assistant.\\n      Answer ONLY from the provided document context.\\n      If the context is insufficient, just say you don't know.\\n\\n      very presence in the shop was an omen, and, as time passed and\\nmoney was pouring into the cash drawer, he had no regrets about\\nhaving hired the boy. The boy was being paid more money than he\\ndeserved, because the merchant, thinking that sales wouldn’t\\namount to much, had offered the boy a high commission rate. He\\nhad assumed he would soon return to his sheep.\\n“Why did you want to get to the Pyramids?” he asked, to get away\\nfrom the business of the display.\\n“Because I’ve always heard about them,” the boy answered,\\nsaying nothing about his dream. The treasure was now nothing but a\\npainful memory, and he tried to avoid thinking about it.\\n“I don’t know anyone around here who would want to cross the\\ndesert just to see the Pyramids,” said the merchant. “They’re just a\\npile of stones. You could build one in your backyard.”\\n“You’ve never had dreams of travel,” said the boy, turning to wait\\non a customer who had entered the shop.\\nTwo days later, the merchant spoke to the boy about the display.\\n\\nwith the animals. I don’t like people to do that, because the sheep\\nare afraid of strangers. But children always seem to be able to play\\nwith them without frightening them. I don’t know why. I don’t know\\nhow animals know the age of human beings.”\\n“Tell me more about your dream,” said the woman. “I have to get\\nback to my cooking, and, since you don’t have much money, I can’t\\ngive you a lot of time.”\\n“The child went on playing with my sheep for quite a while,”\\ncontinued the boy, a bit upset. “And suddenly, the child took me by\\nboth hands and transported me to the Egyptian pyramids.”\\nHe paused for a moment to see if the woman knew what the\\nEgyptian pyramids were. But she said nothing.\\n“Then, at the Egyptian pyramids,”—he said the last three words\\nslowly, so that the old woman would understand—“the child said to\\nme, ‘If you come here, you will find a hidden treasure.’ And, just as\\nshe was about to show me the exact location, I woke up. Both\\ntimes.”\\n\\nout if the Pyramids were really that far away?\\nThe Englishman was sitting on a bench in a structure that smelled of\\nanimals, sweat, and dust; it was part warehouse, part corral. I never\\n\\x0cthought I’d end up in a place like this, he thought, as he leafed\\nthrough the pages of a chemical journal. Ten years at the university,\\nand here I am in a corral.\\nBut he had to move on. He believed in omens. All his life and all\\nhis studies were aimed at finding the one true language of the\\nuniverse. First he had studied Esperanto, then the world’s religions,\\nand now it was alchemy. He knew how to speak Esperanto, he\\nunderstood all the major religions well, but he wasn’t yet an\\nalchemist. He had unraveled the truths behind important questions,\\nbut his studies had taken him to a point beyond which he could not\\nseem to go. He had tried in vain to establish a relationship with an\\nalchemist. But the alchemists were strange people, who thought only\\n\\n“I can work for the rest of today,” the boy answered. “I’ll work all\\nnight, until dawn, and I’ll clean every piece of crystal in your shop. In\\nreturn, I need money to get to Egypt tomorrow.”\\nThe merchant laughed. “Even if you cleaned my crystal for an\\nentire year . . . even if you earned a good commission selling every\\npiece, you would still have to borrow money to get to Egypt. There\\nare thousands of kilometers of desert between here and there.”\\nThere was a moment of silence so profound that it seemed the\\ncity was asleep. No sound from the bazaars, no arguments among\\nthe merchants, no men climbing to the towers to chant. No hope, no\\nadventure, no old kings or Personal Legends, no treasure, and no\\nPyramids. It was as if the world had fallen silent because the boy’s\\nsoul had. He sat there, staring blankly through the door of the café,\\nwishing that he had died, and that everything would end forever at\\nthat moment.\\nThe merchant looked anxiously at the boy. All the joy he had seen\\n\\n“It’s a dream in the language of the world,” she said. “I can\\ninterpret it, but the interpretation is very difficult. That’s why I feel that\\nI deserve a part of what you find.\\n“And this is my interpretation: you must go to the Pyramids in\\nEgypt. I have never heard of them, but, if it was a child who showed\\nthem to you, they exist. There you will find a treasure that will make\\nyou a rich man.”\\nThe boy was surprised, and then irritated. He didn’t need to seek\\nout the old woman for this! But then he remembered that he wasn’t\\ngoing to have to pay anything.\\n“I didn’t need to waste my time just for this,” he said.\\n“I told you that your dream was a difficult one. It’s the simple\\nthings in life that are the most extraordinary; only wise men are able\\nto understand them. And since I am not wise, I have had to learn\\nother arts, such as the reading of palms.”\\n“Well, how am I going to get to Egypt?”\\n“I only interpret dreams. I don’t know how to turn them into reality.\\n      Question: is the topic of Pyramid in this document? if yes then what was discussed\\n    \")"
      ]
     },
     "execution_count": 201,
     "metadata": {},
     "output_type": "execute_result"
    }
   ],
   "source": [
    "# ----------------------------\n",
    "# Final Prompt \n",
    "# ----------------------------\n",
    "final_prompt = prompt.invoke({\"context\": context_text, \"question\": question})\n",
    "final_prompt"
   ]
  },
  {
   "cell_type": "markdown",
   "id": "deec2415",
   "metadata": {},
   "source": [
    "Generation"
   ]
  },
  {
   "cell_type": "code",
   "execution_count": 202,
   "id": "8a7ad424",
   "metadata": {},
   "outputs": [
    {
     "name": "stdout",
     "output_type": "stream",
     "text": [
      "Yes, the topic of the Pyramids is in this document. The following points were discussed:\n",
      "\n",
      "*   A boy has a recurring dream where a child transports him to the Egyptian Pyramids and tells him, \"If you come here, you will find a hidden treasure.\"\n",
      "*   An old woman interprets this dream, telling the boy he must go to the Pyramids in Egypt to find a treasure that will make him rich. She had never heard of them before the boy's dream.\n",
      "*   The boy wants to travel to the Pyramids to find this treasure.\n",
      "*   A merchant thinks the Pyramids are \"just a pile of stones\" and doesn't understand why someone would cross the desert to see them.\n",
      "*   The journey to the Pyramids is described as very difficult, involving crossing \"thousands of kilometers of desert.\"\n"
     ]
    }
   ],
   "source": [
    "# Generation\n",
    "answer = llm.invoke(final_prompt)\n",
    "\n",
    "print(answer.content)"
   ]
  },
  {
   "cell_type": "markdown",
   "id": "b65de538",
   "metadata": {},
   "source": [
    "Chain"
   ]
  },
  {
   "cell_type": "code",
   "execution_count": 203,
   "id": "a785b714",
   "metadata": {},
   "outputs": [],
   "source": [
    "from langchain_core.runnables import RunnableParallel, RunnablePassthrough, RunnableLambda\n",
    "from langchain_core.output_parsers import StrOutputParser"
   ]
  },
  {
   "cell_type": "code",
   "execution_count": 204,
   "id": "7710711f",
   "metadata": {},
   "outputs": [],
   "source": [
    "def format_docs(retrieved_docs):\n",
    "  context_text = \"\\n\\n\".join(doc.page_content for doc in retrieved_docs)\n",
    "  return context_text"
   ]
  },
  {
   "cell_type": "code",
   "execution_count": 205,
   "id": "0e457193",
   "metadata": {},
   "outputs": [],
   "source": [
    "parallel_chain = RunnableParallel({\n",
    "    'context': retriever | RunnableLambda(format_docs),\n",
    "    'question': RunnablePassthrough()\n",
    "})"
   ]
  },
  {
   "cell_type": "code",
   "execution_count": 206,
   "id": "8c8b193e",
   "metadata": {},
   "outputs": [
    {
     "data": {
      "text/plain": [
       "{'context': 'Returning to Brazil after two years, he began a successful career as\\na popular songwriter. In 1974, he was imprisoned for a short time by\\nthe military dictatorship then ruling in Brazil. In 1980, he experienced\\none of the defining moments of his life: he walked the five hundred–\\nplus mile Road of Santiago de Compostela in northwestern Spain.\\nOn this ancient highway, used for centuries by pilgrims from France\\nto get to the cathedral said to house the remains of St. James, he\\n\\x0cachieved a self-awareness and a spiritual awakening that he later\\ndescribed in The Pilgrimage.\\nPaulo Coelho once said that following your dream is like learning\\na foreign language; you will make mistakes but you will get there in\\nthe end. In 1988, he published The Alchemist, a novel that explores\\nthis theme, and it launched him as an international bestselling\\nauthor. Specifically, Paulo Coelho is recognized for his powerful\\nstorytelling technique and the profound spiritual insights he blends\\n\\nheart and soul. I am Santiago the shepherd boy in search of my\\ntreasure, just as you are Santiago the shepherd boy in search of\\nyour own. The story of one person is the story of everyone, and one\\nman’s quest is the quest of all of humanity, which is why I believe\\nThe Alchemist continues all these years later to resonate with people\\nfrom different cultures all around the world, touching them\\nemotionally and spiritually, equally, without prejudice.\\nI re-read The Alchemist regularly and every time I do I experience\\nthe same sensations I felt when I wrote it. And here is what I feel. I\\nfeel happiness, because it is all of me, and all of you simultaneously.\\nI feel happiness, too, because I know I can never be alone.\\nWherever I go, people understand me. They understand my soul.\\nThis continues to give me hope. When I read about clashes around\\n\\x0cthe world—political clashes, economic clashes, cultural clashes—I\\nam reminded that it is within our power to build a bridge to be\\n\\nhe knew all the cities of the region. He was planning, on this visit, to\\nexplain to the girl how it was that a simple shepherd knew how to\\nread. That he had attended a seminary until he was sixteen. His\\nparents had wanted him to become a priest, and thereby a source of\\npride for a simple farm family. They worked hard just to have food\\nand water, like the sheep. He had studied Latin, Spanish, and\\n\\x0ctheology. But ever since he had been a child, he had wanted to know\\nthe world, and this was much more important to him than knowing\\nGod and learning about man’s sins. One afternoon, on a visit to his\\nfamily, he had summoned up the courage to tell his father that he\\ndidn’t want to become a priest. That he wanted to travel.\\n“People from all over the world have passed through this village,\\nson,” said his father. “They come in search of new things, but when\\nthey leave they are basically the same people they were when they\\narrived. They climb the mountain to see the castle, and they wind up\\n\\neighty different languages, the most translated book by any living\\nauthor, and is widely considered one of the ten best books of the\\ntwentieth century.\\nPeople continue to ask me if I knew The Alchemist would be such\\na huge success. The answer is no. I had no idea. How could I?\\nWhen I sat down to write The Alchemist, all I knew is that I wanted to\\nwrite about my soul. I wanted to write about my quest to find my\\ntreasure. I wanted to follow the omens, because I knew even then\\nthat the omens are the language of God.\\nThough The Alchemist is now celebrating its twenty-fifth\\nanniversary, it is no relic of the past. The book is still very much\\nalive. Like my heart and like my soul, it continues to live every day,\\nbecause my heart and soul are in it. And my heart and soul is your\\nheart and soul. I am Santiago the shepherd boy in search of my\\ntreasure, just as you are Santiago the shepherd boy in search of\\nyour own. The story of one person is the story of everyone, and one\\n\\nthat held three ancient Spanish gold coins.\\n“I found these one day in the fields. I wanted them to be a part of\\nyour inheritance. But use them to buy your flock. Take to the fields,\\nand someday you’ll learn that our countryside is the best, and our\\nwomen are the most beautiful.”\\n\\x0cAnd he gave the boy his blessing. The boy could see in his\\nfather’s gaze a desire to be able, himself, to travel the world—a\\ndesire that was still alive, despite his father’s having had to bury it,\\nover dozens of years, under the burden of struggling for water to\\ndrink, food to eat, and the same place to sleep every night of his life.\\nThe horizon was tinged with red, and suddenly the sun appeared.\\nThe boy thought back to that conversation with his father, and felt\\nhappy; he had already seen many castles and met many women\\n(but none the equal of the one who awaited him several days\\nhence). He owned a jacket, a book that he could trade for another,',\n",
       " 'question': 'who is santiago'}"
      ]
     },
     "execution_count": 206,
     "metadata": {},
     "output_type": "execute_result"
    }
   ],
   "source": [
    "parallel_chain.invoke('who is santiago')"
   ]
  },
  {
   "cell_type": "code",
   "execution_count": 207,
   "id": "92768148",
   "metadata": {},
   "outputs": [],
   "source": [
    "parser = StrOutputParser()"
   ]
  },
  {
   "cell_type": "code",
   "execution_count": 208,
   "id": "0a4e85d5",
   "metadata": {},
   "outputs": [],
   "source": [
    "main_chain = parallel_chain | prompt | llm | parser"
   ]
  },
  {
   "cell_type": "code",
   "execution_count": 212,
   "id": "e3b305a3",
   "metadata": {},
   "outputs": [
    {
     "data": {
      "text/plain": [
       "'Based on the document provided, here are the learnings from the story:\\n\\n*   **The only way to learn is through action:** The alchemist states, \"There is only one way to learn... It’s through action. Everything you need to know you have learned through your journey.\"\\n*   **The importance of a \"Personal Legend\":** This is defined as \"what you have always wanted to accomplish.\" The story suggests that pursuing one\\'s Personal Legend is a worthy goal, and that some people fail because they seek only the treasure \"without wanting actually to live out the Personal Legend.\"\\n*   **All things are one:** An old man in the story states, \"All things are one,\" and the boy applies lessons he learned with his sheep to his experiences in a strange land.\\n*   **Learning to perceive:** The boy was learning things he had already experienced but \"had never perceived before\" because he had become accustomed to them. He realized, \"If I can learn to understand this language without words, I can learn to understand the world.\"\\n*   **Learning from observation over books:** The boy found it \"much more interesting to observe the caravan and listen to the wind\" than to read his book, which he eventually threw away, considering it an \"unnecessary burden.\"'"
      ]
     },
     "execution_count": 212,
     "metadata": {},
     "output_type": "execute_result"
    }
   ],
   "source": [
    "main_chain.invoke('what is the learning from the story?')"
   ]
  },
  {
   "cell_type": "code",
   "execution_count": null,
   "id": "a87b5dde",
   "metadata": {},
   "outputs": [],
   "source": []
  }
 ],
 "metadata": {
  "kernelspec": {
   "display_name": "base",
   "language": "python",
   "name": "python3"
  },
  "language_info": {
   "codemirror_mode": {
    "name": "ipython",
    "version": 3
   },
   "file_extension": ".py",
   "mimetype": "text/x-python",
   "name": "python",
   "nbconvert_exporter": "python",
   "pygments_lexer": "ipython3",
   "version": "3.12.3"
  }
 },
 "nbformat": 4,
 "nbformat_minor": 5
}
