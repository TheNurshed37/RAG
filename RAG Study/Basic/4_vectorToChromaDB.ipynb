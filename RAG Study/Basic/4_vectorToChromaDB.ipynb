{
 "cells": [
  {
   "cell_type": "code",
   "execution_count": 1,
   "id": "b2a68483",
   "metadata": {},
   "outputs": [
    {
     "name": "stderr",
     "output_type": "stream",
     "text": [
      "/home/nurshed/Desktop/python/venv/base/lib/python3.12/site-packages/tqdm/auto.py:21: TqdmWarning: IProgress not found. Please update jupyter and ipywidgets. See https://ipywidgets.readthedocs.io/en/stable/user_install.html\n",
      "  from .autonotebook import tqdm as notebook_tqdm\n",
      "2025-10-16 15:03:48.528879: I tensorflow/core/platform/cpu_feature_guard.cc:210] This TensorFlow binary is optimized to use available CPU instructions in performance-critical operations.\n",
      "To enable the following instructions: AVX2 FMA, in other operations, rebuild TensorFlow with the appropriate compiler flags.\n"
     ]
    }
   ],
   "source": [
    "from transformers import BertTokenizer, BertModel\n",
    "import torch\n",
    "import chromadb"
   ]
  },
  {
   "cell_type": "code",
   "execution_count": 2,
   "id": "5522eb02",
   "metadata": {},
   "outputs": [],
   "source": [
    "# 1️⃣ Initialize Chroma client (local persistent storage)\n",
    "chroma_client = chromadb.PersistentClient(path=\"./chroma_db\")"
   ]
  },
  {
   "cell_type": "code",
   "execution_count": 3,
   "id": "eae805da",
   "metadata": {},
   "outputs": [],
   "source": [
    "# 2️⃣ Create (or get) a collection\n",
    "collection = chroma_client.get_or_create_collection(name=\"text_embeddings\")\n"
   ]
  },
  {
   "cell_type": "code",
   "execution_count": 4,
   "id": "5ee39230",
   "metadata": {},
   "outputs": [],
   "source": [
    "# 3️⃣ Load BERT model and tokenizer\n",
    "model_name = \"bert-base-uncased\"\n",
    "tokenizer = BertTokenizer.from_pretrained(model_name)\n",
    "model = BertModel.from_pretrained(model_name)"
   ]
  },
  {
   "cell_type": "code",
   "execution_count": 5,
   "id": "31dc1e36",
   "metadata": {},
   "outputs": [],
   "source": [
    "# 4️⃣ Define sample texts\n",
    "texts = [\n",
    "    \"A luminous red plastic bag sits alone on a dark beach.\",\n",
    "    \"The ocean waves crash softly under the twilight sky.\",\n",
    "    \"A glowing lantern floats over the calm river.\"\n",
    "]"
   ]
  },
  {
   "cell_type": "code",
   "execution_count": 6,
   "id": "a3ec2d6b",
   "metadata": {},
   "outputs": [],
   "source": [
    "# 5️⃣ Generate embeddings\n",
    "def get_embedding(text):\n",
    "    inputs = tokenizer(text, return_tensors=\"pt\", truncation=True, padding=True)\n",
    "    with torch.no_grad():\n",
    "        outputs = model(**inputs)\n",
    "        embedding = outputs.pooler_output[0]  # CLS token embedding\n",
    "    return embedding.numpy().tolist()\n",
    "\n",
    "embeddings = [get_embedding(t) for t in texts]\n"
   ]
  },
  {
   "cell_type": "code",
   "execution_count": 7,
   "id": "d6dc4a04",
   "metadata": {},
   "outputs": [
    {
     "name": "stdout",
     "output_type": "stream",
     "text": [
      "✅ Text embeddings successfully stored in ChromaDB!\n"
     ]
    }
   ],
   "source": [
    "# 6️⃣ Add data to Chroma\n",
    "collection.add(\n",
    "    ids=[\"text1\", \"text2\", \"text3\"],      # unique IDs\n",
    "    documents=texts,                      # original text\n",
    "    embeddings=embeddings                 # numerical vectors\n",
    ")\n",
    "\n",
    "print(\"✅ Text embeddings successfully stored in ChromaDB!\")"
   ]
  },
  {
   "cell_type": "code",
   "execution_count": 8,
   "id": "cd1cb859",
   "metadata": {},
   "outputs": [],
   "source": [
    "# 7️⃣ Perform a semantic search\n",
    "query_text = \"A glowing red bag by the sea.\"\n",
    "query_emb = get_embedding(query_text)\n",
    "\n",
    "results = collection.query(\n",
    "    query_embeddings=[query_emb],\n",
    "    n_results=3  # top 3 most similar texts\n",
    ")"
   ]
  },
  {
   "cell_type": "code",
   "execution_count": 9,
   "id": "079e5ee2",
   "metadata": {},
   "outputs": [
    {
     "name": "stdout",
     "output_type": "stream",
     "text": [
      "\n",
      "🔍 Query Results:\n",
      "Text: A luminous red plastic bag sits alone on a dark beach.\n",
      "Distance: 7.4502\n",
      "\n",
      "Text: A glowing lantern floats over the calm river.\n",
      "Distance: 11.2442\n",
      "\n",
      "Text: The ocean waves crash softly under the twilight sky.\n",
      "Distance: 15.9738\n",
      "\n"
     ]
    }
   ],
   "source": [
    "# 8️⃣ Display results\n",
    "print(\"\\n🔍 Query Results:\")\n",
    "for doc, dist in zip(results[\"documents\"][0], results[\"distances\"][0]):\n",
    "    print(f\"Text: {doc}\\nDistance: {dist:.4f}\\n\")"
   ]
  }
 ],
 "metadata": {
  "kernelspec": {
   "display_name": "base",
   "language": "python",
   "name": "python3"
  },
  "language_info": {
   "codemirror_mode": {
    "name": "ipython",
    "version": 3
   },
   "file_extension": ".py",
   "mimetype": "text/x-python",
   "name": "python",
   "nbconvert_exporter": "python",
   "pygments_lexer": "ipython3",
   "version": "3.10.18"
  }
 },
 "nbformat": 4,
 "nbformat_minor": 5
}
