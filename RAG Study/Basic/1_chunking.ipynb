{
 "cells": [
  {
   "cell_type": "code",
   "execution_count": 2,
   "id": "69d134c3",
   "metadata": {},
   "outputs": [],
   "source": [
    "#%pip install -U langchain-community chromadb transformers sentence-transformers\n",
    "\n",
    "from langchain.text_splitter import RecursiveCharacterTextSplitter\n",
    "from langchain.vectorstores import Chroma\n",
    "from langchain.embeddings import HuggingFaceEmbeddings"
   ]
  },
  {
   "cell_type": "code",
   "execution_count": 3,
   "id": "fde84768",
   "metadata": {},
   "outputs": [],
   "source": [
    "# Sample document (larger for better testing)\n",
    "document = \"\"\"\n",
    "Elon Musk is the CEO of Tesla. Tesla's mission is to accelerate the world's transition to sustainable energy.\n",
    "Tesla manufactures electric vehicles (EVs), battery energy storage, solar panels, and related products. SpaceX, another company led by Musk,\n",
    "aims to make space travel accessible to humanity by developing reusable rockets.\n",
    "Musk has also co-founded Neuralink, which focuses on connecting the human brain to computers using advanced neural interfaces.\n",
    "Recently, Musk has expressed his concerns about artificial intelligence, advocating for regulation to prevent potential harm.\n",
    "Musk believes that governments should play an active role in ensuring the safe development of AI technologies.\n",
    "His innovative ventures span automotive, space exploration, energy, AI, and neuroscience, making him a pivotal figure in modern technology.\n",
    "\"\"\""
   ]
  },
  {
   "cell_type": "code",
   "execution_count": 4,
   "id": "517d96b2",
   "metadata": {},
   "outputs": [
    {
     "name": "stdout",
     "output_type": "stream",
     "text": [
      "Smaller Chunks -\n",
      "['Elon Musk is the', 'CEO of Tesla.', \"Tesla's mission is\", 'to accelerate the', \"world's transition\", 'to sustainable', 'energy.', 'Tesla manufactures', 'electric vehicles', '(EVs), battery', 'energy storage,', 'solar panels, and', 'related products.', 'SpaceX, another', 'company led by', 'Musk,', 'aims to make space', 'travel accessible', 'to humanity by', 'developing reusable', 'rockets.', 'Musk has also', 'co-founded', 'Neuralink, which', 'focuses on', 'connecting the', 'human brain to', 'computers using', 'advanced neural', 'interfaces.', 'Recently, Musk has', 'expressed his', 'concerns about', 'artificial', 'intelligence,', 'advocating for', 'regulation to', 'prevent potential', 'harm.', 'Musk believes that', 'governments should', 'play an active role', 'in ensuring the', 'safe development of', 'AI technologies.', 'His innovative', 'ventures span', 'automotive, space', 'exploration,', 'energy, AI, and', 'neuroscience,', 'making him a', 'a pivotal figure in', 'modern technology.']\n",
      "Larger Chunks -\n",
      "[\"Elon Musk is the CEO of Tesla. Tesla's mission is to accelerate the world's transition to sustainable energy.\", 'Tesla manufactures electric vehicles (EVs), battery energy storage, solar panels, and related products. SpaceX, another company led by Musk,', 'aims to make space travel accessible to humanity by developing reusable rockets.', 'Musk has also co-founded Neuralink, which focuses on connecting the human brain to computers using advanced neural interfaces.', 'Recently, Musk has expressed his concerns about artificial intelligence, advocating for regulation to prevent potential harm.', 'Musk believes that governments should play an active role in ensuring the safe development of AI technologies.', 'His innovative ventures span automotive, space exploration, energy, AI, and neuroscience, making him a pivotal figure in modern technology.']\n"
     ]
    }
   ],
   "source": [
    "# Small chunk size\n",
    "small_splitter = RecursiveCharacterTextSplitter(chunk_size=20, chunk_overlap=2)\n",
    "small_chunks = small_splitter.split_text(document)\n",
    "print(\"Smaller Chunks -\")\n",
    "print(small_chunks)\n",
    "# Large chunk size\n",
    "large_splitter = RecursiveCharacterTextSplitter(chunk_size=200, chunk_overlap=10)\n",
    "large_chunks = large_splitter.split_text(document)\n",
    "print(\"Larger Chunks -\")\n",
    "print(large_chunks)\n"
   ]
  },
  {
   "cell_type": "code",
   "execution_count": 6,
   "id": "57b7a129",
   "metadata": {},
   "outputs": [],
   "source": [
    "\n",
    "# Initialize embedding model\n",
    "embedding_model = HuggingFaceEmbeddings(model_name=\"all-MiniLM-L6-v2\")\n"
   ]
  },
  {
   "cell_type": "code",
   "execution_count": 7,
   "id": "f7ff4e20",
   "metadata": {},
   "outputs": [],
   "source": [
    "\n",
    "# Create vector stores\n",
    "small_vector_store = Chroma.from_texts(small_chunks, embedding_model)\n",
    "large_vector_store = Chroma.from_texts(large_chunks, embedding_model)\n"
   ]
  },
  {
   "cell_type": "code",
   "execution_count": 8,
   "id": "a7f25eb3",
   "metadata": {},
   "outputs": [],
   "source": [
    "\n",
    "# Semantic query\n",
    "query = \"What are Musk's views on artificial intelligence and government regulations?\"\n",
    "\n"
   ]
  },
  {
   "cell_type": "code",
   "execution_count": 9,
   "id": "98c14a6a",
   "metadata": {},
   "outputs": [],
   "source": [
    "# Perform search\n",
    "small_results = small_vector_store.similarity_search(query, k=1)\n",
    "large_results = large_vector_store.similarity_search(query, k=1)\n",
    "\n"
   ]
  },
  {
   "cell_type": "code",
   "execution_count": 10,
   "id": "33a0bc5e",
   "metadata": {},
   "outputs": [
    {
     "name": "stdout",
     "output_type": "stream",
     "text": [
      "-----------------------------------\n",
      "Results\n",
      "-----------------------------------\n",
      "Small Chunk Results: [Document(metadata={}, page_content='Recently, Musk has expressed his concerns about artificial intelligence, advocating for regulation to prevent potential harm.')]\n",
      "Large Chunk Results: [Document(metadata={}, page_content='Recently, Musk has expressed his concerns about artificial intelligence, advocating for regulation to prevent potential harm.')]\n"
     ]
    }
   ],
   "source": [
    "# Display results\n",
    "print(\"-----------------------------------\")\n",
    "print(\"Results\")\n",
    "print(\"-----------------------------------\")\n",
    "print(\"Small Chunk Results:\", small_results)\n",
    "print(\"Large Chunk Results:\", large_results)"
   ]
  },
  {
   "cell_type": "code",
   "execution_count": null,
   "id": "d03ad867",
   "metadata": {},
   "outputs": [],
   "source": []
  }
 ],
 "metadata": {
  "kernelspec": {
   "display_name": "base",
   "language": "python",
   "name": "python3"
  },
  "language_info": {
   "codemirror_mode": {
    "name": "ipython",
    "version": 3
   },
   "file_extension": ".py",
   "mimetype": "text/x-python",
   "name": "python",
   "nbconvert_exporter": "python",
   "pygments_lexer": "ipython3",
   "version": "3.12.3"
  }
 },
 "nbformat": 4,
 "nbformat_minor": 5
}
